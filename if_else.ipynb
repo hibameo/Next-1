{
  "nbformat": 4,
  "nbformat_minor": 0,
  "metadata": {
    "colab": {
      "provenance": [],
      "authorship_tag": "ABX9TyNZUGIQJ9kPIRcng29qovgk",
      "include_colab_link": true
    },
    "kernelspec": {
      "name": "python3",
      "display_name": "Python 3"
    },
    "language_info": {
      "name": "python"
    }
  },
  "cells": [
    {
      "cell_type": "markdown",
      "metadata": {
        "id": "view-in-github",
        "colab_type": "text"
      },
      "source": [
        "<a href=\"https://colab.research.google.com/github/hibameo/Next-1/blob/main/if_else.ipynb\" target=\"_parent\"><img src=\"https://colab.research.google.com/assets/colab-badge.svg\" alt=\"Open In Colab\"/></a>"
      ]
    },
    {
      "cell_type": "markdown",
      "source": [
        "# IF_Else"
      ],
      "metadata": {
        "id": "sYDzjBaaqt4Q"
      }
    },
    {
      "cell_type": "code",
      "execution_count": null,
      "metadata": {
        "colab": {
          "base_uri": "https://localhost:8080/"
        },
        "id": "IHhm0tRlqM78",
        "outputId": "1c2307cd-1e7f-48e8-b008-bdfd0d1eaea5"
      },
      "outputs": [
        {
          "output_type": "stream",
          "name": "stdout",
          "text": [
            "Access granted!\n"
          ]
        }
      ],
      "source": [
        "password = \"1234\"\n",
        "\n",
        "if password == \"1234\":\n",
        "    print(\"Access granted!\")\n",
        "else:\n",
        "    print(\"Access denied!\")\n"
      ]
    },
    {
      "cell_type": "code",
      "source": [
        "number = 10\n",
        "\n",
        "if number > 0:\n",
        "    if number % 2 == 0:\n",
        "        print(\"The number is positive and even.\")\n",
        "    else:\n",
        "        print(\"The number is positive and odd.\")\n",
        "else:\n",
        "    print(\"The number is not positive.\")\n"
      ],
      "metadata": {
        "colab": {
          "base_uri": "https://localhost:8080/"
        },
        "id": "pqoykNjaqXWO",
        "outputId": "2383274e-9955-4276-dd0c-33f05b07c1bf"
      },
      "execution_count": null,
      "outputs": [
        {
          "output_type": "stream",
          "name": "stdout",
          "text": [
            "The number is positive and even.\n"
          ]
        }
      ]
    },
    {
      "cell_type": "code",
      "source": [
        "marks = 75\n",
        "\n",
        "if marks >= 80:\n",
        "    print(\"Grade: A\")\n",
        "elif marks >= 60:\n",
        "    print(\"Grade: B\")\n",
        "elif marks >= 40:\n",
        "    print(\"Grade: C\")\n",
        "else:\n",
        "    print(\"Fail\")\n"
      ],
      "metadata": {
        "colab": {
          "base_uri": "https://localhost:8080/"
        },
        "id": "XB8JgpDhqdXI",
        "outputId": "c46a4434-8b14-4660-b455-4ed3e8bc8af7"
      },
      "execution_count": null,
      "outputs": [
        {
          "output_type": "stream",
          "name": "stdout",
          "text": [
            "Grade: B\n"
          ]
        }
      ]
    },
    {
      "cell_type": "code",
      "source": [
        "age = 18\n",
        "\n",
        "if age >= 18:\n",
        "    print(\"You are eligible to vote!\")  # Ye tab chalega jab age 18 ya usse zyada hogi\n",
        "else:\n",
        "    print(\"You are not eligible to vote.\")  # Ye tab chalega jab age 18 se kam hogi\n"
      ],
      "metadata": {
        "colab": {
          "base_uri": "https://localhost:8080/"
        },
        "id": "19TQZ9CuqihN",
        "outputId": "019dc93a-f1da-4038-eb6e-13af876fc8b0"
      },
      "execution_count": null,
      "outputs": [
        {
          "output_type": "stream",
          "name": "stdout",
          "text": [
            "You are eligible to vote!\n"
          ]
        }
      ]
    }
  ]
}