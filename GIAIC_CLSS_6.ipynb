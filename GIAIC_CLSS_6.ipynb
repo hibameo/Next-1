{
  "nbformat": 4,
  "nbformat_minor": 0,
  "metadata": {
    "colab": {
      "provenance": [],
      "authorship_tag": "ABX9TyPqQE2b7FNoUHYWaM7sBj5W",
      "include_colab_link": true
    },
    "kernelspec": {
      "name": "python3",
      "display_name": "Python 3"
    },
    "language_info": {
      "name": "python"
    }
  },
  "cells": [
    {
      "cell_type": "markdown",
      "metadata": {
        "id": "view-in-github",
        "colab_type": "text"
      },
      "source": [
        "<a href=\"https://colab.research.google.com/github/hibameo/python-/blob/main/GIAIC_CLSS_6.ipynb\" target=\"_parent\"><img src=\"https://colab.research.google.com/assets/colab-badge.svg\" alt=\"Open In Colab\"/></a>"
      ]
    },
    {
      "cell_type": "code",
      "execution_count": 3,
      "metadata": {
        "id": "ZvM4E3IN2bL1"
      },
      "outputs": [],
      "source": [
        "# range function/method\n",
        "\n",
        "numbers =  [1,2,3,4,5,6,7,8,9]\n",
        "x = range(1,10)  # 1,2,3,4,5\n",
        "# 1.starting point\n",
        "# 2.condition\n",
        "# 3.increment\n",
        "# print(numbers)\n",
        "# print(list(x))\n",
        "\n",
        "#  aam zindagi\n",
        "# num: int = 2\n",
        "# print(\"2 x 1 =\", num * 1  )\n",
        "# print(\"2 x 2 =\", num * 2  )\n",
        "# print(\"2 x 3 =\", num * 3  )\n",
        "# print(\"2 x 4 =\", num * 4  )\n",
        "# print(\"2 x 5 =\", num * 5  )\n",
        "# print(\"2 x 6 =\", num * 6  )\n",
        "# print(\"2 x 7 =\", num * 7  )\n",
        "# print(\"2 x 8 =\", num * 8  )\n",
        "# print(\"2 x 9 =\", num * 9  )\n",
        "# print(\"2 x 10 =\", num * 10 )\n",
        "\n",
        "\n",
        "# mintos zindagi\n",
        "# for num in range(1,11): # 1,2,3,4,... ,10\n",
        "#     print(\"2 x\",num , \"=\", 2 * num)          # indentation\n",
        "#     print(f\"2 x {num} = {2 * num}\") # fstring\n",
        "\n",
        "#loops\n",
        "# 1. for loop\n",
        "# 2. while loop\n",
        "\n",
        "\n",
        "# num = 1\n",
        "# num = num + 1\n",
        "# print(\"num first time\", num)\n",
        "# num = num + 1\n",
        "# print(\"num second time\", num)\n",
        "# print(num < 10)\n",
        "# while num < 10:\n",
        "#     print(\"number before increment\", num)\n",
        "#     # num = num + 1\n",
        "#     print(\"number after increment\", num)\n",
        "\n",
        "# password: str = \"python123\"\n",
        "# user_input: str = \"\"\n",
        "\n",
        "# print(\"user_input != password is\",user_input != password)\n",
        "# while user_input != password: # user input wo baraber na ho password k\n",
        "#     print(\"incorrect password!\")\n",
        "#     user_input = input(\"Type your answer please!\")\n",
        "\n",
        "\n",
        "# string\n",
        "# integer\n",
        "# boolean\n",
        "# list\n",
        "# tuple\n",
        "\n",
        "numbers = [1,2,3,4,5]\n",
        "#         0   ,   1   ,  2    ,  3\n",
        "names1 = [\"Ali\",\"Bilal\",\"Hamza\",\"Okasha\"]  # list  mutable\n",
        "#         0   ,   1   ,  2    ,  3\n",
        "names2 = (\"Ali\", \"Bilal\", \"Hamza\", \"Okasha\") # tuple immutable\n",
        "name: str  = \"Ali\"\n",
        "name  = \"Bilal\"\n",
        "\n",
        "\n",
        "\n",
        "#  list\n",
        "# print(\"names1 before over write\", names1)\n",
        "# #  Bilal    =  \"Abdullah\"\n",
        "# names1[1] = \"Abdullah\"\n",
        "# print(\"names1 after over write\", names1)\n",
        "\n",
        "\n",
        "#  tuple\n",
        "# print(\"names1 before over write\", names2)\n",
        "# #  Bilal    =  \"Abdullah\"\n",
        "# names2[1] = \"Abdullah\"\n",
        "# print(\"names1 after over write\", names2)\n",
        "\n",
        "\n",
        "# print(\"list first name is\", names1[0])\n",
        "# print(\"tuple first name is\", names2[0])"
      ]
    }
  ]
}