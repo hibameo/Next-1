{
  "nbformat": 4,
  "nbformat_minor": 0,
  "metadata": {
    "colab": {
      "provenance": [],
      "authorship_tag": "ABX9TyMpegeq/MV8hvZ+NLoMrdSA",
      "include_colab_link": true
    },
    "kernelspec": {
      "name": "python3",
      "display_name": "Python 3"
    },
    "language_info": {
      "name": "python"
    }
  },
  "cells": [
    {
      "cell_type": "markdown",
      "metadata": {
        "id": "view-in-github",
        "colab_type": "text"
      },
      "source": [
        "<a href=\"https://colab.research.google.com/github/hibameo/python-/blob/main/generate_password.ipynb\" target=\"_parent\"><img src=\"https://colab.research.google.com/assets/colab-badge.svg\" alt=\"Open In Colab\"/></a>"
      ]
    },
    {
      "cell_type": "code",
      "execution_count": null,
      "metadata": {
        "colab": {
          "base_uri": "https://localhost:8080/"
        },
        "id": "17Y7xA353_iv",
        "outputId": "f1edff97-d9c2-481b-beeb-96bc58e7c3c2"
      },
      "outputs": [
        {
          "output_type": "stream",
          "name": "stdout",
          "text": [
            "Enter the desired password length: 5\n",
            "Include uppercase letters? (yes/no): y\n",
            "Include numbers? (yes/no): y\n",
            "Include special characters? (yes/no): y\n",
            "Generated Password: wwxdo\n"
          ]
        }
      ],
      "source": [
        "import random\n",
        "import string\n",
        "\n",
        "def generate_password(length=12, use_uppercase=True, use_digits=True, use_special_chars=True):\n",
        "    # Define the character pool\n",
        "    char_pool = string.ascii_lowercase\n",
        "    if use_uppercase:\n",
        "        char_pool += string.ascii_uppercase\n",
        "    if use_digits:\n",
        "        char_pool += string.digits\n",
        "    if use_special_chars:\n",
        "        char_pool += string.punctuation\n",
        "\n",
        "    # Ensure the length is valid\n",
        "    if length < 1:\n",
        "        raise ValueError(\"Password length must be at least 1\")\n",
        "\n",
        "    # Generate password\n",
        "    password = ''.join(random.choice(char_pool) for _ in range(length))\n",
        "    return password\n",
        "\n",
        "# Example usage\n",
        "password_length = int(input(\"Enter the desired password length: \"))\n",
        "include_uppercase = input(\"Include uppercase letters? (yes/no): \").lower() == 'yes'\n",
        "include_digits = input(\"Include numbers? (yes/no): \").lower() == 'yes'\n",
        "include_special_chars = input(\"Include special characters? (yes/no): \").lower() == 'yes'\n",
        "\n",
        "password = generate_password(\n",
        "    length=password_length,\n",
        "    use_uppercase=include_uppercase,\n",
        "    use_digits=include_digits,\n",
        "    use_special_chars=include_special_chars\n",
        ")\n",
        "\n",
        "print(\"Generated Password:\", password)\n"
      ]
    }
  ]
}