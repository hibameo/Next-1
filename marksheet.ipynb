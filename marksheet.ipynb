{
  "nbformat": 4,
  "nbformat_minor": 0,
  "metadata": {
    "colab": {
      "provenance": [],
      "authorship_tag": "ABX9TyM13wSIbhqe4VxTiZJfAeBY",
      "include_colab_link": true
    },
    "kernelspec": {
      "name": "python3",
      "display_name": "Python 3"
    },
    "language_info": {
      "name": "python"
    }
  },
  "cells": [
    {
      "cell_type": "markdown",
      "metadata": {
        "id": "view-in-github",
        "colab_type": "text"
      },
      "source": [
        "<a href=\"https://colab.research.google.com/github/hibameo/Next-1/blob/main/marksheet.ipynb\" target=\"_parent\"><img src=\"https://colab.research.google.com/assets/colab-badge.svg\" alt=\"Open In Colab\"/></a>"
      ]
    },
    {
      "cell_type": "code",
      "source": [
        "# Input details\n",
        "name = input(\"hiba,laraib,hanan,shayan,ali \")\n",
        "roll_no = input (\"221101,221102,221103,221104,221105 \")\n",
        "marks = [float(input(f\"100 {i+1}: \")) for i in range(5)]\n",
        "\n",
        "# Calculate total, percentage, and grade\n",
        "total = sum(marks)\n",
        "percentage = (total / 500) * 100\n",
        "grade = (\n",
        "    \"A+\" if percentage >= 90 else\n",
        "    \"A\" if percentage >= 80 else\n",
        "    \"B\" if percentage >= 70 else\n",
        "    \"C\" if percentage >= 60 else\n",
        "    \"D\" if percentage >= 40 else\n",
        "    \"Fail\"\n",
        ")\n",
        "\n",
        "# Print mark sheet\n",
        "print(f\"\\nName: {name}\\nRoll No: {roll_no}\\nTotal: {total}/500\\nPercentage: {percentage:.2f}%\")\n",
        "print(f\"Grade: {grade}\\nStatus: {'Pass' if grade != 'Fail' else 'Fail'}\")\n"
      ],
      "metadata": {
        "id": "ORDa_pXEWhg-"
      },
      "execution_count": null,
      "outputs": []
    }
  ]
}