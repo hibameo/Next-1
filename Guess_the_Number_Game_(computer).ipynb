{
  "nbformat": 4,
  "nbformat_minor": 0,
  "metadata": {
    "colab": {
      "provenance": [],
      "authorship_tag": "ABX9TyNIR8dKRJXEK1qcHED2/CC7",
      "include_colab_link": true
    },
    "kernelspec": {
      "name": "python3",
      "display_name": "Python 3"
    },
    "language_info": {
      "name": "python"
    }
  },
  "cells": [
    {
      "cell_type": "markdown",
      "metadata": {
        "id": "view-in-github",
        "colab_type": "text"
      },
      "source": [
        "<a href=\"https://colab.research.google.com/github/hibameo/python-/blob/main/Guess_the_Number_Game_(computer).ipynb\" target=\"_parent\"><img src=\"https://colab.research.google.com/assets/colab-badge.svg\" alt=\"Open In Colab\"/></a>"
      ]
    },
    {
      "cell_type": "code",
      "execution_count": null,
      "metadata": {
        "colab": {
          "base_uri": "https://localhost:8080/"
        },
        "id": "1IaUzpg876BC",
        "outputId": "4fd9e677-73b1-4db3-d042-6c5dc6951d33"
      },
      "outputs": [
        {
          "output_type": "stream",
          "name": "stdout",
          "text": [
            "Welcome to the 'Guess the Number' Game!\n",
            "I have picked a number between 1 and 100. Can you guess it?\n",
            "Enter your guess: 67\n",
            "Too low! Try again.\n",
            "Enter your guess: 80\n",
            "Too high! Try again.\n",
            "Enter your guess: 71\n",
            "Too low! Try again.\n",
            "Enter your guess: 75\n",
            "Too high! Try again.\n",
            "Enter your guess: 74\n",
            "Too high! Try again.\n",
            "Enter your guess: 72\n",
            "Too low! Try again.\n",
            "Enter your guess: 70\n",
            "Too low! Try again.\n",
            "Enter your guess: 73\n",
            "Congratulations! You guessed it right in 8 attempts.\n"
          ]
        }
      ],
      "source": [
        "import random\n",
        "\n",
        "def guess_the_number():\n",
        "    print(\"Welcome to the 'Guess the Number' Game!\")\n",
        "    print(\"I have picked a number between 1 and 100. Can you guess it?\")\n",
        "\n",
        "    # Generate a random number\n",
        "    number_to_guess = random.randint(1, 100)\n",
        "    attempts = 0\n",
        "    guessed_correctly = False\n",
        "\n",
        "    while not guessed_correctly:\n",
        "        try:\n",
        "            # Player's guess\n",
        "            player_guess = int(input(\"Enter your guess: \"))\n",
        "            attempts += 1\n",
        "\n",
        "            if player_guess < number_to_guess:\n",
        "                print(\"Too low! Try again.\")\n",
        "            elif player_guess > number_to_guess:\n",
        "                print(\"Too high! Try again.\")\n",
        "            else:\n",
        "                print(f\"Congratulations! You guessed it right in {attempts} attempts.\")\n",
        "                guessed_correctly = True\n",
        "        except ValueError:\n",
        "            print(\"Please enter a valid number!\")\n",
        "\n",
        "# Run the game\n",
        "guess_the_number()\n"
      ]
    },
    {
      "cell_type": "markdown",
      "source": [],
      "metadata": {
        "id": "yEINXhRJ-U1q"
      }
    }
  ]
}